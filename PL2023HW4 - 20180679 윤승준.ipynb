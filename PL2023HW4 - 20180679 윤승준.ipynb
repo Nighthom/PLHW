{
 "cells": [
  {
   "cell_type": "markdown",
   "id": "ab354cc4-f4fd-4eb7-8745-4cb505172c63",
   "metadata": {},
   "source": [
    "# HNU CE 프로그래밍언어론 (2023년 1학기) HW4\n",
    "기말과제 파트1"
   ]
  },
  {
   "cell_type": "markdown",
   "id": "b3ed9693-2d1d-452e-a76d-03e4ae77fa55",
   "metadata": {},
   "source": [
    "- 이름: 윤승준\n",
    "- 학번: 20180679"
   ]
  },
  {
   "cell_type": "markdown",
   "id": "0dc04f45-1bc8-463b-bb79-1a5cc17aba29",
   "metadata": {},
   "source": [
    "이름과 학번을 위에 작성하시오.\n",
    "\n",
    "\n",
    "적절한 내용과 개수의 테스트를 작성하지 않으면 감점. 테스트가 적절하지 않거나 지나치게 부족하면 함수를 올바르게 작성했더라도 점수를 얻지 못할 수 있음에 유의!\n",
    "\n",
    "----"
   ]
  },
  {
   "cell_type": "code",
   "execution_count": 1,
   "id": "1ac64b75-35f6-4db9-bcd9-8e7086e2c6ac",
   "metadata": {},
   "outputs": [],
   "source": [
    ":opt no-lint\n",
    "{-# LANGUAGE ScopedTypeVariables FlexibleInstances TypeApplications RankNTypes KindSignatures #-}"
   ]
  },
  {
   "cell_type": "markdown",
   "id": "c12e73e9-cdd8-42e5-9571-8be7a142a636",
   "metadata": {},
   "source": [
    "----\n",
    "## 문제 1. (20점) 9장 연습문제 4번"
   ]
  },
  {
   "cell_type": "code",
   "execution_count": 2,
   "id": "43496b98-5503-4f7f-885f-30c4cd7167f3",
   "metadata": {},
   "outputs": [],
   "source": [
    "type Nm = String -- 변수 이름은 문자열로\n",
    "data Expr = Var Nm         -- x\n",
    "          | Lam Nm Expr    -- (λx.e)\n",
    "          | App Expr Expr  -- (e1 e2)\n",
    "          deriving (Eq, Ord)\n",
    "\n",
    "type Addr = Int\n",
    "type Env' = [(Nm,Addr)]\n",
    "data Clos' = Cl' Expr Env' deriving (Eq,Ord)\n",
    "\n",
    "lookupEnv' :: Nm -> Env' -> [Addr]\n",
    "lookupEnv' x env = case lookup x env of\n",
    "                     Nothing -> []\n",
    "                     Just l -> [l]\n",
    "\n",
    "import qualified Data.HashMap.Strict as M -- M.funcName으로 활용\n",
    "import Data.HashMap.Strict (HashMap, (!), (!?)) -- 앞에 M. 없이\n",
    "type Store = HashMap Int Clos'\n",
    "\n",
    "lookupStore :: Addr -> Store -> [Clos']\n",
    "lookupStore l st = case st !? l of\n",
    "                     Nothing -> []\n",
    "                     Just cl -> [cl]\n",
    "                     \n",
    "type Kont' = [Either Addr (Ctx,Env')]\n",
    "data Ctx = Done | App1 Expr | App2 Expr  deriving (Eq,Ord)"
   ]
  },
  {
   "cell_type": "code",
   "execution_count": 3,
   "id": "5c60c4bf-7bc9-446d-ad27-b3ee7dc7db07",
   "metadata": {
    "tags": []
   },
   "outputs": [],
   "source": [
    "instance Show Expr where -- LaTeX 소스코드 생성하는 Show 인스턴스 직접 선언\n",
    "  showsPrec _ (Var x) = showString x\n",
    "  showsPrec p (Lam x e) = showParen (p > 1) $\n",
    "      showString (\"\\\\lambda \"++x++\".\") . showsPrec 1 e\n",
    "  showsPrec p (App e1 e2) = showParen (p > 9) $\n",
    "      showsPrec 9 e1 . showString \"\\\\;\" . showsPrec 10 e2\n",
    "import IHaskell.Display (latex)\n",
    "dTeX e = display [latex $ \"$\"++show e++\"$\"]\n",
    "instance IHaskellDisplay Expr where display = dTeX\n",
    "\n",
    "instance Show Ctx where -- LaTeX 소스코드 생성하는 Show 인스턴스 직접 선언\n",
    "  showsPrec _ Done = showString \"\\\\bullet \"\n",
    "  showsPrec p (App1 e2) = showParen (p > 9) $\n",
    "      showString \"\\\\bullet \\\\;\" . showsPrec 10 e2\n",
    "  showsPrec p (App2 e1) = showParen (p > 9) $\n",
    "      showsPrec 9 e1 . showString \"\\\\; \\\\bullet\"\n",
    "instance IHaskellDisplay Ctx where display = dTeX\n",
    "                                               \n",
    "import Data.List (intercalate)\n",
    "instance {-# OVERLAPS #-} Show Env' where\n",
    "  show env = \"\\\\{\"++ intercalate \",\\\\,\" (map show env) ++\"\\\\}\"\n",
    "instance {-# OVERLAPS #-} Show (Nm,Addr) where\n",
    "  show (x,l) = x++\"{\\\\mapsto}\"++show l\n",
    "instance Show Clos' where\n",
    "  show (Cl' e env) = \"\\\\langle \"++show e++\",\"++show env++\"\\\\rangle \"\n",
    "instance {-# OVERLAPS #-} Show (Addr,Clos') where\n",
    "  show (l,cl) = show l++\"{\\\\mapsto}\"++show cl\n",
    "instance {-# OVERLAPS #-} Show Store where\n",
    "  show s = \"\\\\{\"++ intercalate \",\\\\,\" (map show $ M.toList s) ++\"\\\\}\"\n",
    "\n",
    "instance {-# OVERLAPS #-} IHaskellDisplay Env'  where display = dTeX\n",
    "instance {-# OVERLAPS #-} IHaskellDisplay (Nm,Addr) \n",
    "                                                where display = dTeX\n",
    "instance IHaskellDisplay Clos'                  where display = dTeX\n",
    "instance {-# OVERLAPS #-} IHaskellDisplay (Addr,Clos')\n",
    "                                                where display = dTeX\n",
    "instance {-# OVERLAPS #-} IHaskellDisplay Store where display = dTeX"
   ]
  },
  {
   "cell_type": "code",
   "execution_count": 4,
   "id": "d5e3af30-5e8c-43ba-bba6-96862c6d6042",
   "metadata": {},
   "outputs": [],
   "source": [
    "stepCESKz :: (Clos', Store, Kont') -> [(Clos', Store, Kont')]\n",
    "stepCESKz (Cl' (Var x) env, st, k) = [ (cl, st, Left l : k) |\n",
    "                                         l <- lookupEnv' x env,\n",
    "                                         cl <- lookupStore l st ]\n",
    "stepCESKz (Cl' (App e1 e2) env, st, k) = [ (Cl' e1 env, st, Right (App1 e2, env) : k) ]\n",
    "stepCESKz (Cl' (Lam x e) env1, st, Right (App1 e2, env) : k) = [ (Cl' e2 env, st, Right (App2 (Lam x e), env1): k) ]\n",
    "stepCESKz (v2@(Cl' (Lam _ _) _), st, Right (App2 (Lam x e), env1) : k) = [ (Cl' e ((x, l) : env1), st', k) ]\n",
    "  where\n",
    "    l = length st\n",
    "    st' = M.insert l (Cl' (Lam x e) env1) st\n",
    "stepCESKz _ = []"
   ]
  },
  {
   "cell_type": "code",
   "execution_count": 5,
   "id": "5f17a577-a16d-4fa3-aa9d-ea774af8c8bb",
   "metadata": {},
   "outputs": [],
   "source": [
    "hat f es = concat [f e | e <- es]\n",
    "stepCESKz' = hat stepCESKz -- 여러 번 실행에 편리한 확장된 함수"
   ]
  },
  {
   "cell_type": "code",
   "execution_count": 6,
   "id": "8ae05b5e-06c1-493b-a0fa-2d1ab352d275",
   "metadata": {},
   "outputs": [
    {
     "data": {
      "text/plain": [
       "[(\\langle \\lambda x.x,\\{\\}\\rangle ,\\{1{\\mapsto}\\langle \\lambda x.x,\\{\\}\\rangle ,\\,2{\\mapsto}\\langle \\lambda z.z,\\{\\}\\rangle \\},[Left 1,Left 1,Right (\\bullet ,\\{\\})])]"
      ]
     },
     "metadata": {},
     "output_type": "display_data"
    },
    {
     "data": {
      "text/plain": [
       "[]"
      ]
     },
     "metadata": {},
     "output_type": "display_data"
    },
    {
     "data": {
      "text/plain": [
       "[(\\langle \\lambda x.x,\\{x{\\mapsto}1\\}\\rangle ,\\{1{\\mapsto}\\langle \\lambda x.x,\\{\\}\\rangle \\},[Right (\\bullet \\;(\\lambda y.y),\\{x{\\mapsto}1\\}),Left 1,Right (\\bullet ,\\{\\})])]"
      ]
     },
     "metadata": {},
     "output_type": "display_data"
    },
    {
     "data": {
      "text/plain": [
       "[(\\langle \\lambda y.y,\\{x{\\mapsto}1\\}\\rangle ,\\{1{\\mapsto}\\langle \\lambda x.x,\\{\\}\\rangle \\},[Right ((\\lambda x.x)\\; \\bullet,\\{x{\\mapsto}1\\}),Left 1,Right (\\bullet ,\\{\\})])]"
      ]
     },
     "metadata": {},
     "output_type": "display_data"
    },
    {
     "data": {
      "text/plain": [
       "[(\\langle x,\\{x{\\mapsto}1,\\,x{\\mapsto}1\\}\\rangle ,\\{1{\\mapsto}\\langle \\lambda x.x,\\{x{\\mapsto}1\\}\\rangle \\},[Left 1,Right (\\bullet ,\\{\\})])]"
      ]
     },
     "metadata": {},
     "output_type": "display_data"
    },
    {
     "data": {
      "text/plain": [
       "[(\\langle \\lambda x.x,\\{x{\\mapsto}1\\}\\rangle ,\\{1{\\mapsto}\\langle \\lambda x.x,\\{x{\\mapsto}1\\}\\rangle \\},[Left 1,Left 1,Right (\\bullet ,\\{\\})])]"
      ]
     },
     "metadata": {},
     "output_type": "display_data"
    },
    {
     "data": {
      "text/plain": [
       "[]"
      ]
     },
     "metadata": {},
     "output_type": "display_data"
    }
   ],
   "source": [
    "-- 테스트 작성\n",
    "sigma00 = M.empty :: Store\n",
    "sigma01 = M.insert 1 (Cl' (Lam \"x\" $ Var \"x\") []) sigma00 :: Store\n",
    "sigma02 = M.insert 2 (Cl' (Lam \"z\" $ Var \"z\") []) sigma01 :: Store\n",
    "stepCESKz' [( Cl' (Var \"y\") [(\"y\", 1)], sigma02, [Left 1, Right (Done, [])] )]\n",
    "stepCESKz' it\n",
    "\n",
    "stepCESKz' [( Cl' (App (Lam \"x\" $ Var \"x\") (Lam \"y\" $ Var \"y\")) [(\"x\", 1)], sigma01, [Left 1, Right (Done, [])] )]\n",
    "stepCESKz' it\n",
    "stepCESKz' it\n",
    "stepCESKz' it\n",
    "stepCESKz' it"
   ]
  },
  {
   "cell_type": "markdown",
   "id": "ea138aa6-5b99-40a9-b7e1-f56e4bb85a61",
   "metadata": {},
   "source": [
    "----\n",
    "## 문제 2. (10점) 11장 연습문제 3번\n",
    "\n",
    "교재 11장에서 필요한 정의를 가져와서 활용하라."
   ]
  },
  {
   "cell_type": "code",
   "execution_count": 7,
   "id": "66d94d4f-7377-4cb5-8e7a-24a37879ca75",
   "metadata": {},
   "outputs": [],
   "source": [
    "type Parser tok a = [tok] -> [(a, [tok])]"
   ]
  },
  {
   "cell_type": "code",
   "execution_count": 8,
   "id": "01802bb1-159c-4086-a075-e866ef3c7ef8",
   "metadata": {},
   "outputs": [],
   "source": [
    "return :: a -> Parser tok a -- 입력 토큰열 ts를 소비하지 않고\n",
    "return v = \\ts -> [(v,ts)]  -- 그냥 v를 리턴하며 성공하는 파서\n",
    "\n",
    "failure :: Parser tok a -- 입력에 관계없이 무조건 실패하는 파서\n",
    "failure = \\_ -> []"
   ]
  },
  {
   "cell_type": "code",
   "execution_count": 9,
   "id": "c67fbe1b-014a-4701-9462-4d05ce912810",
   "metadata": {},
   "outputs": [],
   "source": [
    "item :: Parser tok tok\n",
    "item []     = []       -- 길이 0인 토큰열에 대해서는 실패\n",
    "item (t:ts) = [(t,ts)] -- 맨 앞의 토큰 t하나만 처리해 t를 리턴 "
   ]
  },
  {
   "cell_type": "code",
   "execution_count": 10,
   "id": "c17957d5-fbbb-485a-8a0a-13f786f5967e",
   "metadata": {},
   "outputs": [],
   "source": [
    "(>>=) :: Parser tok a -> (a -> Parser tok b) -> Parser tok b\n",
    "p1 >>= pf = \\ts -> [ (v2,ts2) | (v1,ts1) <- p1 ts,\n",
    "{- 이어붙이기 sequencing -}       (v2,ts2) <- (pf v1) ts1 ]"
   ]
  },
  {
   "cell_type": "code",
   "execution_count": 11,
   "id": "4d51ec7f-67d0-4ce0-8898-0b8a90e1bd24",
   "metadata": {},
   "outputs": [],
   "source": [
    "sat :: (tok -> Bool) -> Parser tok tok\n",
    "sat test = item >>= \\t ->          -- 토큰 하나를 읽어들여\n",
    "           if test t then return t -- 조건에 맞는 경우에만 성공하고 \n",
    "                     else failure  -- 그렇지 않으면 실패하는 파서"
   ]
  },
  {
   "cell_type": "code",
   "execution_count": 12,
   "id": "e93d7c81-5226-4c55-990a-6bf20f1ae104",
   "metadata": {},
   "outputs": [],
   "source": [
    "(<|>) :: Parser tok a -> Parser tok a -> Parser tok a  -- 선택 choice\n",
    "p1 <|> p2 = \\ts -> case p1 ts of\n",
    "                     []  -> p2 ts  -- 첫번째 파서가 실패하면 두번째로\n",
    "                     rs1 -> rs1    -- 첫번째가 성공하면 첫번째만으로"
   ]
  },
  {
   "cell_type": "code",
   "execution_count": 13,
   "id": "e97d436b-a9ca-4b52-b1dc-d12f1553f868",
   "metadata": {},
   "outputs": [],
   "source": [
    "many, many1  :: Parser tok a -> Parser tok [a]  -- 상호재귀적으로 정의됨\n",
    "many  p = many1 p <|> return [] -- 1회 성공 또는 무조건 0회라 치고 성공\n",
    "\n",
    "many1 p = p      >>= \\v  ->  -- 한번 성공한 다음\n",
    "          many p >>= \\vs ->  -- 0회 이상 성공\n",
    "          return (v:vs)"
   ]
  },
  {
   "cell_type": "code",
   "execution_count": 14,
   "id": "bfa6bc34-aa7b-42cc-acfd-7d71078aba8e",
   "metadata": {},
   "outputs": [],
   "source": [
    "import Data.Char ( isDigit, isLower, isUpper,\n",
    "                   isAlpha, isAlphaNum, isSpace )\n",
    "digit = sat isDigit\n",
    "lower = sat isLower\n",
    "upper = sat isUpper\n",
    "letter = sat isAlpha\n",
    "alphanum = sat isAlphaNum\n",
    "space = sat isSpace"
   ]
  },
  {
   "cell_type": "code",
   "execution_count": 15,
   "id": "2731f729-0132-4970-91a7-44b6660fe11a",
   "metadata": {},
   "outputs": [],
   "source": [
    "char :: Char -> Parser Char Char    -- char c는 주어진 글자 c와 첫글자가\n",
    "char c = sat (==c)                  -- 일치하는 경우에만 성공하는 파서\n",
    "\n",
    "string :: String -> Parser Char String  -- string s는 주어진 문자열 s와\n",
    "string []     = return []               -- 앞부분이 일치하는 경우에만 성공\n",
    "string (c:cs) = char c    >>= \\_ ->\n",
    "                string cs >>= \\_ ->\n",
    "                return (c:cs)"
   ]
  },
  {
   "cell_type": "code",
   "execution_count": 16,
   "id": "c5c3500f-8161-4f89-b44b-880bbbed4377",
   "metadata": {},
   "outputs": [],
   "source": [
    "nat :: Parser Char Int\n",
    "nat = many1 digit >>= \\s ->  -- 1개 이상의 digit(숫자)\n",
    "      return (read s)        -- 문자열 s를 정수로 변환한 값으로 성공시킴\n",
    "\n",
    "ident :: Parser Char String\n",
    "ident = lower         >>= \\c  ->  -- 첫글자는 소문자\n",
    "        many alphanum >>= \\cs ->  -- 그 뒤에는 0개 이상의 문자 또는 숫자\n",
    "        return (c:cs)\n",
    "\n",
    "spaces  :: Parser Char ()\n",
    "spaces  = many  space >>= \\_ -> return ()  -- 0개 이상의 공백문자 처리\n",
    "spaces1 :: Parser Char ()\n",
    "spaces1 = many1 space >>= \\_ -> return ()  -- 1개 이상의 공백문자 처리"
   ]
  },
  {
   "cell_type": "code",
   "execution_count": 17,
   "id": "05450a65-b7f2-4f59-9c94-8df40c277e4f",
   "metadata": {},
   "outputs": [],
   "source": [
    "data Tok = KW String -- 키워드\n",
    "         | ID String -- 변수 이름\n",
    "         | INT Int   -- 정수\n",
    "         | LP        -- (\n",
    "         | RP        -- )\n",
    "         | LAM       -- \\\n",
    "         | DOT       -- .\n",
    "         | ADD       -- +\n",
    "         deriving (Eq,Ord,Show)"
   ]
  },
  {
   "cell_type": "code",
   "execution_count": 18,
   "id": "02dfa0a7-c652-4797-b850-e6a4281cadd0",
   "metadata": {},
   "outputs": [],
   "source": [
    "word :: Parser Char Tok\n",
    "word = ident  >>= \\s ->\n",
    "       if s `elem` [\"if\",\"then\",\"else\"] then return (KW s)\n",
    "                                        else return (ID s)\n",
    "\n",
    "natural :: Parser Char Tok\n",
    "natural = nat >>= \\n -> return (INT n)\n",
    "\n",
    "lp :: Parser Char Tok\n",
    "lp = char '(' >>= \\c -> return LP\n",
    "\n",
    "rp :: Parser Char Tok\n",
    "rp = char ')' >>= \\c -> return RP\n",
    "\n",
    "lam :: Parser Char Tok\n",
    "lam = char '\\\\' >>= \\c -> return LAM\n",
    "\n",
    "dot :: Parser Char Tok\n",
    "dot = char '.' >>= \\c -> return DOT\n",
    "\n",
    "add :: Parser Char Tok\n",
    "add = char '+' >>= \\c -> return ADD"
   ]
  },
  {
   "cell_type": "code",
   "execution_count": 19,
   "id": "c8157fb4-51e8-4030-a841-7c9906813c24",
   "metadata": {},
   "outputs": [],
   "source": [
    "tok :: Parser Char a -> Parser Char a\n",
    "tok p = p      >>= \\v ->\n",
    "        spaces >>= \\_ ->\n",
    "        return v\n",
    "        \n",
    "lexFAC = (many (tok word <|> tok natural <|> tok lp <|> tok rp <|> tok lam <|> tok dot <|> tok add))"
   ]
  },
  {
   "cell_type": "code",
   "execution_count": 20,
   "id": "11972529-950d-40b0-85d4-4b245aa35ff0",
   "metadata": {},
   "outputs": [
    {
     "data": {
      "text/plain": [
       "[([KW \"if\",ID \"b1\",KW \"then\",INT 123,KW \"else\",ID \"x3\"],\"\")]"
      ]
     },
     "metadata": {},
     "output_type": "display_data"
    },
    {
     "data": {
      "text/plain": [
       "[([KW \"if\",ID \"b1\",KW \"then\",INT 123,KW \"else\",INT 3,ADD,LP,LAM,ID \"y\",DOT,ID \"y\",RP],\"\")]"
      ]
     },
     "metadata": {},
     "output_type": "display_data"
    }
   ],
   "source": [
    "lexFAC \"if b1 then 123 else x3  \"\n",
    "lexFAC \"if b1 then 123 else 3 + (\\\\y. y) \""
   ]
  },
  {
   "cell_type": "markdown",
   "id": "d7b351f9-0f09-40a2-b516-0d80cb6b76ff",
   "metadata": {
    "tags": []
   },
   "source": [
    "----\n",
    "## 문제 3. (15점) 12장 연습문제 3번\n",
    "\n",
    "모든 타입(Ty)을 원소로 나열하는 무한 리스트 `allTy`를 정의해 보라.\n",
    "원소가 리스트에 나타나는 순서는 `Z`를 1개만 포하는 타입, `Z`를 2개 포함하는 타입들, `Z`를 3개 포함하는 타입들, ... 이런 순서로 나타나도록 정의하라.\n",
    "\n",
    "그러니까 `allTy`는\n",
    "$[\\,\\mathbb{Z},\n",
    "  \\;\\mathbb{Z}{\\to}\\mathbb{Z},\n",
    "  \\;\\mathbb{Z}{\\to}\\mathbb{Z}{\\to}\\mathbb{Z},\n",
    "  \\;(\\mathbb{Z}{\\to}\\mathbb{Z}){\\to}\\mathbb{Z},\n",
    "  \\;\\ldots]$와 같은 리스트이다."
   ]
  },
  {
   "cell_type": "code",
   "execution_count": 21,
   "id": "735b686f-499d-49c6-ab03-85701ae6e958",
   "metadata": {},
   "outputs": [],
   "source": [
    "data Ty = Z | Arr Ty Ty  deriving (Eq,Ord, Show)"
   ]
  },
  {
   "cell_type": "code",
   "execution_count": 22,
   "id": "a70bfd2d-e2a0-473a-98d5-d84b86b42394",
   "metadata": {},
   "outputs": [],
   "source": [
    "orTy 1 = [Z]\n",
    "orTy 2 = [Arr Z Z]\n",
    "orTy n = [Arr Z t | t <- orTy (n-1)] ++ [Arr t Z | t <- orTy (n-1)]\n",
    "\n",
    "allTy = [t | n <- [1, 2..], t <- orTy n] -- 필요하다면 여러 개의 등식이나 다른 보조 함수를 정의해서 활용해도 좋다"
   ]
  },
  {
   "cell_type": "code",
   "execution_count": 23,
   "id": "17528ebc-c2f9-44eb-9a0f-5e273559e048",
   "metadata": {},
   "outputs": [
    {
     "data": {
      "text/plain": [
       "[Z,Arr Z Z,Arr Z (Arr Z Z),Arr (Arr Z Z) Z,Arr Z (Arr Z (Arr Z Z)),Arr Z (Arr (Arr Z Z) Z),Arr (Arr Z (Arr Z Z)) Z,Arr (Arr (Arr Z Z) Z) Z,Arr Z (Arr Z (Arr Z (Arr Z Z))),Arr Z (Arr Z (Arr (Arr Z Z) Z)),Arr Z (Arr (Arr Z (Arr Z Z)) Z),Arr Z (Arr (Arr (Arr Z Z) Z) Z),Arr (Arr Z (Arr Z (Arr Z Z))) Z,Arr (Arr Z (Arr (Arr Z Z) Z)) Z,Arr (Arr (Arr Z (Arr Z Z)) Z) Z,Arr (Arr (Arr (Arr Z Z) Z) Z) Z,Arr Z (Arr Z (Arr Z (Arr Z (Arr Z Z)))),Arr Z (Arr Z (Arr Z (Arr (Arr Z Z) Z))),Arr Z (Arr Z (Arr (Arr Z (Arr Z Z)) Z)),Arr Z (Arr Z (Arr (Arr (Arr Z Z) Z) Z)),Arr Z (Arr (Arr Z (Arr Z (Arr Z Z))) Z),Arr Z (Arr (Arr Z (Arr (Arr Z Z) Z)) Z),Arr Z (Arr (Arr (Arr Z (Arr Z Z)) Z) Z),Arr Z (Arr (Arr (Arr (Arr Z Z) Z) Z) Z),Arr (Arr Z (Arr Z (Arr Z (Arr Z Z)))) Z,Arr (Arr Z (Arr Z (Arr (Arr Z Z) Z))) Z,Arr (Arr Z (Arr (Arr Z (Arr Z Z)) Z)) Z,Arr (Arr Z (Arr (Arr (Arr Z Z) Z) Z)) Z,Arr (Arr (Arr Z (Arr Z (Arr Z Z))) Z) Z,Arr (Arr (Arr Z (Arr (Arr Z Z) Z)) Z) Z]"
      ]
     },
     "metadata": {},
     "output_type": "display_data"
    }
   ],
   "source": [
    "-- 테스트로 앞에서부터 적절한 개수의 타입들을 끊어서 보기\n",
    "take 30 allTy"
   ]
  },
  {
   "cell_type": "markdown",
   "id": "0c0b24b1-50f9-47d1-9dc3-3ce9f0d0e3b6",
   "metadata": {},
   "source": [
    "## 문제 4. (15점) 12장 연습문제 1번. `eval` 함수만 완성하라. `ev`는 작성하지 않아도 됨\n",
    "재귀함수 관련 `undefined`로 남겨진 부분을 채워넣고 재귀함수 실행을 테스트해 보라"
   ]
  },
  {
   "cell_type": "code",
   "execution_count": 24,
   "id": "fa15be85-5221-4c19-aa6d-2be11b100467",
   "metadata": {},
   "outputs": [],
   "source": [
    "type Nm = String  -- 변수 이름은 문자열로\n",
    "data Ty = Z | Arr Ty Ty  deriving (Eq,Ord)\n",
    "data Expr = Var Nm             -- x\n",
    "          | Lam Nm Ty Expr     -- (\\x:t.e)\n",
    "          | Rec Nm Ty Expr     -- rec f:t (\\x:t2.e)\n",
    "          | App Expr Expr      -- (e1 e2)\n",
    "          | Lit Int            -- n\n",
    "          | Add Expr Expr      -- e1 + e2\n",
    "          | If Expr Expr Expr  -- if e then e1 else e0\n",
    "          deriving (Eq, Ord)\n",
    "\n",
    "data Val = Cl Expr Env | Vi Int  deriving (Eq,Ord)\n",
    "type Env = [ (Nm, Val) ]\n",
    "type TEnv = [ (Nm, Ty) ] -- 타입환경"
   ]
  },
  {
   "cell_type": "code",
   "execution_count": 25,
   "id": "15d6d5aa-0849-4082-85eb-5e19d05a5abc",
   "metadata": {},
   "outputs": [],
   "source": [
    "instance Show Ty where\n",
    "  showsPrec _ Z = showString \"\\\\mathbb{Z}\"\n",
    "  showsPrec p (Arr t1 t2) = showParen (p > 1) $\n",
    "      showsPrec p t1 . showString \"{\\\\to}\" . showsPrec p t2\n",
    "instance Show Expr where -- LaTeX 소스코드 생성하는 Show 인스턴스 직접 선언\n",
    "  showsPrec _ (Var x) = showString x\n",
    "  showsPrec p (Lam x t e) = showParen (p > 1) $\n",
    "      showString (\"\\\\lambda \"++x++\"{:}\"++show t++\".\") . showsPrec 1 e\n",
    "  showsPrec p (Rec f t e) = showParen (p > 9) $\n",
    "      showString (\"\\\\textbf{rec}\\\\,\"++f++\"{:}\") . showsPrec 0 t .\n",
    "      showString \"\\\\, \" . showsPrec 2 e\n",
    "  showsPrec p (App e1 e2) = showParen (p > 9) $\n",
    "      showsPrec 9 e1 . showString \"\\\\;\" . showsPrec 10 e2\n",
    "  showsPrec _ (Lit n) = shows n\n",
    "  showsPrec p (Add e1 e2) = showParen (p > 6) $\n",
    "      showsPrec 6 e1 . showString \"+\" . showsPrec 7 e2\n",
    "  showsPrec p (If e e1 e0) = showParen (p > 2) $\n",
    "      showString \"\\\\textbf{if}\\\\;\" . showsPrec 3 e .\n",
    "      showString \"\\\\;\\\\textbf{then}\\\\;\" . showsPrec 3 e1 .\n",
    "      showString \"\\\\;\\\\textbf{else}\\\\;\" . showsPrec 3 e0\n",
    "\n",
    "import IHaskell.Display (latex)\n",
    "dTeX e = display [latex $ \"$\"++show e++\"$\"]\n",
    "instance IHaskellDisplay Expr  where display = dTeX\n",
    "instance IHaskellDisplay Ty    where display = dTeX"
   ]
  },
  {
   "cell_type": "code",
   "execution_count": 26,
   "id": "783dc02c-0d60-413b-9521-204c3f2cce91",
   "metadata": {},
   "outputs": [],
   "source": [
    "import Data.List (intercalate)\n",
    "instance {-# OVERLAPS #-} Show Env where\n",
    "    show env = \"\\\\{\"++ intercalate \",\\\\,\" (map show env) ++\"\\\\}\"\n",
    "instance {-# OVERLAPS #-} Show TEnv where\n",
    "    show tenv = \"\\\\{\"++ intercalate \",\\\\,\" (map show tenv) ++\"\\\\}\"\n",
    "instance {-# OVERLAPS #-} Show (Nm,Val) where\n",
    "    show (x,cl) = x++\"{\\\\mapsto}\"++show cl\n",
    "instance {-# OVERLAPS #-} Show (Nm,Ty) where\n",
    "    show (x,t) = x++\"{\\\\mapsto}\"++show t\n",
    "instance Show Val where\n",
    "    show (Cl e env) = \"\\\\langle \"++show e++\",\"++show env++\"\\\\rangle \"\n",
    "    show (Vi n) = \" \"++show n++\" \"\n",
    "instance {-# OVERLAPS #-} IHaskellDisplay Env    where display = dTeX\n",
    "instance {-# OVERLAPS #-} IHaskellDisplay TEnv   where display = dTeX\n",
    "instance {-# OVERLAPS #-} IHaskellDisplay (Nm,Val) where display=dTeX\n",
    "instance {-# OVERLAPS #-} IHaskellDisplay (Nm,Ty)  where display=dTeX\n",
    "instance IHaskellDisplay Val                     where display = dTeX"
   ]
  },
  {
   "cell_type": "code",
   "execution_count": 27,
   "id": "efabce24-0194-423c-a208-44c34da7ebe8",
   "metadata": {},
   "outputs": [],
   "source": [
    "eval :: Env -> Expr -> Val\n",
    "eval env (Var x) =\n",
    "    case lookup x env of\n",
    "        Nothing -> error (x ++ \" not defined\")\n",
    "        Just v -> v\n",
    "eval env e@(Lam _ _ _) = Cl e env\n",
    "eval env (Rec f t e@(Lam _ _ _)) =\n",
    "    let closure = Cl e env'\n",
    "        env' = (f, closure) : env\n",
    "    in closure\n",
    "eval env (App e1 e2) =\n",
    "    case v1 of\n",
    "        Cl (Lam x _ e) env1 -> eval ((x, v2) : env1) e\n",
    "        _ -> error (show v1 ++ \" not closure\")\n",
    "    where\n",
    "        v1 = eval env e1\n",
    "        v2 = eval env e2\n",
    "eval _ (Lit n) = Vi n\n",
    "eval env (Add e1 e2) =\n",
    "    case (v1, v2) of\n",
    "        (Vi n1, Vi n2) -> Vi (n1 + n2)\n",
    "        (Vi _, _) -> error (show v2 ++ \" not int\")\n",
    "        (_, Vi _) -> error (show v1 ++ \" not int\")\n",
    "    where\n",
    "        v1 = eval env e1\n",
    "        v2 = eval env e2\n",
    "eval env (If e e1 e0) =\n",
    "    case eval env e of\n",
    "        Vi 0 -> eval env e0\n",
    "        Vi _ -> eval env e1\n",
    "        _ -> error (show e ++ \" not int\")\n"
   ]
  },
  {
   "cell_type": "code",
   "execution_count": 28,
   "id": "460b22c1-81c0-480a-bb57-1c2656bd7439",
   "metadata": {},
   "outputs": [
    {
     "data": {
      "text/latex": [
       "$\\langle \\lambda x{:}\\mathbb{Z}.\\lambda y{:}\\mathbb{Z}.\\textbf{if}\\;x\\;\\textbf{then}\\;x+y\\;\\textbf{else}\\;y+y,\\{\\}\\rangle $"
      ]
     },
     "metadata": {},
     "output_type": "display_data"
    },
    {
     "data": {
      "text/latex": [
       "$ 2 $"
      ]
     },
     "metadata": {},
     "output_type": "display_data"
    }
   ],
   "source": [
    "e1 = Lam \"x\" Z . Lam \"y\" Z $ If (Var \"x\") (Var \"x\" `Add` Var \"y\")\n",
    "                                          (Var \"y\" `Add` Var \"y\")\n",
    "e2 = Lit 2\n",
    "e3 = Lit 3\n",
    "\n",
    "eval [] e1\n",
    "eval [] e2"
   ]
  },
  {
   "cell_type": "code",
   "execution_count": 29,
   "id": "0c64fe84-2fcc-4bfd-b3d1-2a0e8e0e2dd4",
   "metadata": {},
   "outputs": [
    {
     "data": {
      "text/latex": [
       "$(\\lambda x{:}\\mathbb{Z}.\\lambda y{:}\\mathbb{Z}.\\textbf{if}\\;x\\;\\textbf{then}\\;x+y\\;\\textbf{else}\\;y+y)\\;2$"
      ]
     },
     "metadata": {},
     "output_type": "display_data"
    },
    {
     "data": {
      "text/latex": [
       "$\\langle \\lambda y{:}\\mathbb{Z}.\\textbf{if}\\;x\\;\\textbf{then}\\;x+y\\;\\textbf{else}\\;y+y,\\{x{\\mapsto} 2 \\}\\rangle $"
      ]
     },
     "metadata": {},
     "output_type": "display_data"
    }
   ],
   "source": [
    "App e1 e2\n",
    "eval [] (App e1 e2)"
   ]
  },
  {
   "cell_type": "code",
   "execution_count": 30,
   "id": "b19c33ba-3e28-448f-beb0-4815406e086e",
   "metadata": {},
   "outputs": [
    {
     "data": {
      "text/latex": [
       "$(\\lambda x{:}\\mathbb{Z}.\\lambda y{:}\\mathbb{Z}.\\textbf{if}\\;x\\;\\textbf{then}\\;x+y\\;\\textbf{else}\\;y+y)\\;2\\;3$"
      ]
     },
     "metadata": {},
     "output_type": "display_data"
    },
    {
     "data": {
      "text/latex": [
       "$ 5 $"
      ]
     },
     "metadata": {},
     "output_type": "display_data"
    }
   ],
   "source": [
    "App (App e1 e2) e3\n",
    "eval [] (App (App e1 e2) e3)"
   ]
  },
  {
   "cell_type": "code",
   "execution_count": 31,
   "id": "272a5892-9e30-4fa7-9cf4-5e4fd146fff0",
   "metadata": {},
   "outputs": [
    {
     "data": {
      "text/latex": [
       "$(\\lambda x{:}\\mathbb{Z}.\\lambda y{:}\\mathbb{Z}.\\textbf{if}\\;x\\;\\textbf{then}\\;x+y\\;\\textbf{else}\\;y+y)\\;0\\;3$"
      ]
     },
     "metadata": {},
     "output_type": "display_data"
    },
    {
     "data": {
      "text/latex": [
       "$ 6 $"
      ]
     },
     "metadata": {},
     "output_type": "display_data"
    }
   ],
   "source": [
    "App (App e1 (Lit 0)) e3\n",
    "eval [] (App (App e1 (Lit 0)) e3)"
   ]
  },
  {
   "cell_type": "code",
   "execution_count": 32,
   "id": "e63f7420-f2df-4e7a-8ddf-7bff5dafaea5",
   "metadata": {},
   "outputs": [
    {
     "data": {
      "text/latex": [
       "$\\textbf{rec}\\,f{:}\\mathbb{Z}{\\to}\\mathbb{Z}\\, (\\lambda i{:}\\mathbb{Z}.\\textbf{if}\\;i\\;\\textbf{then}\\;i+f\\;(i+-1)\\;\\textbf{else}\\;i)$"
      ]
     },
     "metadata": {},
     "output_type": "display_data"
    }
   ],
   "source": [
    "e4 = Rec \"f\" (Arr Z Z) .\n",
    "         Lam \"i\" Z $ If i (i `Add` App f (i `Add` Lit (-1))) i\n",
    "    where f = Var \"f\"\n",
    "          i = Var \"i\"\n",
    "e4 -- rec f (\\i.if i then i + f(i + -1) else i)"
   ]
  },
  {
   "cell_type": "code",
   "execution_count": 33,
   "id": "8b490c75-af92-4366-bf7a-5c18ad4a37df",
   "metadata": {},
   "outputs": [
    {
     "data": {
      "text/latex": [
       "$ 5050 $"
      ]
     },
     "metadata": {},
     "output_type": "display_data"
    }
   ],
   "source": [
    "-- rec f (\\i.if i then i + f(i + -1) else i) 100\n",
    "eval [] (e4 `App` Lit 100)  -- 100부터 0까지의 총합"
   ]
  },
  {
   "cell_type": "markdown",
   "id": "d4a09015-31c7-4e26-b4fd-985461d94128",
   "metadata": {
    "tags": []
   },
   "source": [
    "## 문제 5. (30점) 12장 연습문제 4번,5번,6번"
   ]
  },
  {
   "cell_type": "code",
   "execution_count": 34,
   "id": "2cb6a060-379c-487d-b87c-c36b9e230bd6",
   "metadata": {},
   "outputs": [],
   "source": [
    "-- 4번\n",
    "check tenv e t = infer tenv e == [t]  -- check는 infer로 간단히 정의 가능\n",
    "\n",
    "infer :: TEnv -> Expr -> [Ty]  -- 적절한 타입이 존재하지 않으면 빈 리스트\n",
    "infer tenv (Var x)      = case lookup x tenv of Just t  -> [t]\n",
    "                                                Nothing -> []\n",
    "infer tenv (Lam x t2 e) = case infer ((x, t2) : tenv) e of\n",
    "  [t] -> [Arr t2 t]\n",
    "  _   -> []\n",
    "infer tenv (Rec f t e) = case infer ((f, t) : tenv) e of\n",
    "  [t'] | t == t' -> [t]\n",
    "  _              -> []\n",
    "infer tenv (App e1 e2) = case infer tenv e1 of\n",
    "  [Arr t2 t] -> if check tenv e2 t2 then [t] else []\n",
    "  _          -> []\n",
    "infer tenv (Lit _) = [Z]\n",
    "infer tenv (Add e1 e2) = if check tenv e1 Z && check tenv e2 Z then [Z] else []\n",
    "infer tenv (If e e1 e0) = case infer tenv e of\n",
    "  [Z] -> if infer tenv e1 == infer tenv e0 then infer tenv e1 else []\n",
    "  _   -> []"
   ]
  },
  {
   "cell_type": "code",
   "execution_count": 35,
   "id": "a9c6d477-5b54-4eb1-a7f0-48b67c892ed5",
   "metadata": {},
   "outputs": [
    {
     "data": {
      "text/latex": [
       "$\\mathbb{Z}$"
      ]
     },
     "metadata": {},
     "output_type": "display_data"
    }
   ],
   "source": [
    "-- 5번\n",
    "tenv :: TEnv\n",
    "tenv = [(\"x\", Z)]\n",
    "\n",
    "infer tenv $ Var \"x\"  -- 자유변수 x\n",
    "-- 타입 추론 가능 \n",
    "infer tenv $ Lit 3 `App` Lit 1  -- 3을 1에 함수처럼 적용\n",
    "-- 불가 \n",
    "infer tenv $ Lit 3 `Add` (Lam \"x\" Z $ Var \"x\")  -- 3과 함수요약식의 덧셈\n",
    "-- 불가\n",
    "infer tenv $ If (Lit 0) (Lam \"x\" Z $ Var \"x\") (Lit 3)\n",
    "-- 불가"
   ]
  },
  {
   "cell_type": "code",
   "execution_count": 36,
   "id": "779e1dbe-2e1d-4017-9ac6-a1be5431fe12",
   "metadata": {},
   "outputs": [
    {
     "data": {
      "text/latex": [
       "$\\mathbb{Z}{\\to}\\mathbb{Z}$"
      ]
     },
     "metadata": {},
     "output_type": "display_data"
    }
   ],
   "source": [
    "-- 6번\n",
    "infer tenv e4"
   ]
  },
  {
   "cell_type": "code",
   "execution_count": null,
   "id": "2147a7cf-148f-4f33-8dd2-5b22f537838d",
   "metadata": {},
   "outputs": [],
   "source": []
  }
 ],
 "metadata": {
  "kernelspec": {
   "display_name": "Haskell",
   "language": "haskell",
   "name": "haskell"
  },
  "language_info": {
   "codemirror_mode": "ihaskell",
   "file_extension": ".hs",
   "mimetype": "text/x-haskell",
   "name": "haskell",
   "pygments_lexer": "Haskell",
   "version": "9.2.5"
  }
 },
 "nbformat": 4,
 "nbformat_minor": 5
}
