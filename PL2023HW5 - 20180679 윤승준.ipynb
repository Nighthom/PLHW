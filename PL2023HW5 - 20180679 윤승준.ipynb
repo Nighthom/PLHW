{
 "cells": [
  {
   "cell_type": "markdown",
   "id": "ab354cc4-f4fd-4eb7-8745-4cb505172c63",
   "metadata": {},
   "source": [
    "# HNU CE 프로그래밍언어론 (2023년 1학기) HW5\n",
    "기말과제 파트2"
   ]
  },
  {
   "cell_type": "markdown",
   "id": "b3ed9693-2d1d-452e-a76d-03e4ae77fa55",
   "metadata": {},
   "source": [
    "- 이름: 윤승준\n",
    "- 학번: 20180679"
   ]
  },
  {
   "cell_type": "markdown",
   "id": "0dc04f45-1bc8-463b-bb79-1a5cc17aba29",
   "metadata": {},
   "source": [
    "이름과 학번을 위에 작성하시오.\n",
    "\n",
    "\n",
    "적절한 내용과 개수의 테스트를 작성하지 않으면 감점. 테스트가 적절하지 않거나 지나치게 부족하면 함수를 올바르게 작성했더라도 점수를 얻지 못할 수 있음에 유의!\n",
    "\n",
    "----"
   ]
  },
  {
   "cell_type": "code",
   "execution_count": 1,
   "id": "1ac64b75-35f6-4db9-bcd9-8e7086e2c6ac",
   "metadata": {},
   "outputs": [],
   "source": [
    ":opt no-lint\n",
    "{-# LANGUAGE ScopedTypeVariables FlexibleInstances TypeApplications RankNTypes KindSignatures #-}"
   ]
  },
  {
   "cell_type": "code",
   "execution_count": 2,
   "id": "115b4aa7-3d7f-4fa8-806e-acf54046e9dd",
   "metadata": {},
   "outputs": [],
   "source": [
    "type Nm = String  -- 변수 이름은 문자열로\n",
    "\n",
    "data Ty = Z | Arr Ty Ty  deriving (Eq,Ord)\n",
    "\n",
    "-- Let은 제외했음\n",
    "data Expr = Var Nm                      -- x\n",
    "          | Lam Nm (Maybe Ty) Expr      -- (\\x:t.e)\n",
    "          | Rec Nm (Maybe Ty) Expr      -- rec f:t (\\x:t2.e)\n",
    "          | App Expr Expr               -- (e1 e2)\n",
    "          | Lit Int                     -- n\n",
    "          | Add Expr Expr               -- e1 + e2\n",
    "          | If Expr Expr Expr           -- if e then e1 else e0\n",
    "          deriving (Eq, Ord)\n",
    "          \n",
    "data Val = Cl Expr Env | Vi Int  deriving (Eq,Ord)\n",
    "type Env = [ (Nm, Val) ]\n",
    "type TEnv = [ (Nm, Ty) ]"
   ]
  },
  {
   "cell_type": "code",
   "execution_count": 3,
   "id": "fd588a8a-6a2a-4b65-b5cd-7ed51e07470f",
   "metadata": {},
   "outputs": [],
   "source": [
    "instance Show Ty where\n",
    "  showsPrec _ Z = showString \"\\\\mathbb{Z}\"\n",
    "  showsPrec p (Arr t1 t2) = showParen (p > 1) $\n",
    "      showsPrec p t1 . showString \"{\\\\to}\" . showsPrec p t2\n",
    "instance Show Expr where -- LaTeX 소스코드 생성하는 Show 인스턴스 직접 선언\n",
    "  showsPrec _ (Var x) = showString x\n",
    "  showsPrec p (Lam x mt e) = showParen (p > 1) $\n",
    "      showString (\"\\\\lambda \"++x) . showsMT mt .\n",
    "      showString \".\" . showsPrec 1 e\n",
    "  showsPrec p (Rec f mt e) = showParen (p > 9) $\n",
    "      showString (\"\\\\textbf{rec}\\\\,\"++f) . showsMT mt .\n",
    "      showString \"\\\\, \" . showsPrec 2 e\n",
    "  showsPrec p (App e1 e2) = showParen (p > 9) $\n",
    "      showsPrec 9 e1 . showString \"\\\\;\" . showsPrec 10 e2\n",
    "  showsPrec _ (Lit n) = shows n\n",
    "  showsPrec p (Add e1 e2) = showParen (p > 6) $\n",
    "      showsPrec 6 e1 . showString \"+\" . showsPrec 7 e2\n",
    "  showsPrec p (If e e1 e0) = showParen (p > 2) $\n",
    "      showString \"\\\\textbf{if}\\\\;\" . showsPrec 3 e .\n",
    "      showString \"\\\\;\\\\textbf{then}\\\\;\" . showsPrec 3 e1 .\n",
    "      showString \"\\\\;\\\\textbf{else}\\\\;\" . showsPrec 3 e0\n",
    "\n",
    "showsMT (Just t) = showString \"{:}\" . showsPrec 0 t\n",
    "showsMT Nothing  = id \n",
    "\n",
    "import IHaskell.Display (latex)\n",
    "dTeX e = display [latex $ \"$\"++show e++\"$\"]\n",
    "instance IHaskellDisplay Expr where display = dTeX\n",
    "instance IHaskellDisplay Ty   where display = dTeX"
   ]
  },
  {
   "cell_type": "code",
   "execution_count": 4,
   "id": "30399d64-3d66-4afb-8105-3d9ee93f7ba4",
   "metadata": {},
   "outputs": [],
   "source": [
    "import Data.List (intercalate)\n",
    "instance {-# OVERLAPS #-} Show Env where\n",
    "    show env = \"\\\\{\"++ intercalate \",\\\\,\" (map show env) ++\"\\\\}\"\n",
    "instance {-# OVERLAPS #-} Show TEnv where\n",
    "    show tenv = \"\\\\{\"++ intercalate \",\\\\,\" (map show tenv) ++\"\\\\}\"\n",
    "instance {-# OVERLAPS #-} Show (Nm,Val) where\n",
    "    show (x,v) = x++\"{\\\\mapsto}\"++show v\n",
    "instance {-# OVERLAPS #-} Show (Nm,Ty) where\n",
    "    show (x,t) = x++\"{\\\\mapsto}\"++show t\n",
    "instance Show Val where\n",
    "    show (Cl e env) = \"\\\\langle \"++show e++\",\"++show env++\"\\\\rangle \"\n",
    "    show (Vi n) = \" \"++show n++\" \"\n",
    "instance {-# OVERLAPS #-} IHaskellDisplay Env    where display = dTeX\n",
    "instance {-# OVERLAPS #-} IHaskellDisplay TEnv   where display = dTeX\n",
    "instance {-# OVERLAPS #-} IHaskellDisplay (Nm,Val) where display=dTeX\n",
    "instance {-# OVERLAPS #-} IHaskellDisplay (Nm,Ty)  where display=dTeX\n",
    "instance IHaskellDisplay Val                     where display = dTeX"
   ]
  },
  {
   "cell_type": "markdown",
   "id": "c12e73e9-cdd8-42e5-9571-8be7a142a636",
   "metadata": {},
   "source": [
    "## 문제 6. (40점) 13장 연습문제 1번,2번,3번,5번\n",
    "앞선 문제에서 작성했던 것처럼 `infer` 함수의 미완성 부분(`undefined`)을 일단 완성해 놓고 `recon`을 개선하라.\n",
    "\n",
    "`recon`을 여러 번 작성할 필요는 없고 아래의 `recon` 함수를 그냥 수정하면 된다. 각 연습문제에 해당하는 기능이 구현된 부분에 대해 부분점수를 부여한다."
   ]
  },
  {
   "cell_type": "code",
   "execution_count": 5,
   "id": "4c6c0b30-007b-459c-a341-06f069587d13",
   "metadata": {},
   "outputs": [],
   "source": [
    "check tenv e t = infer tenv e == [t]  -- check는 infer로 간단히 정의 가능\n",
    "\n",
    "infer :: TEnv -> Expr -> [Ty]  -- 적절한 타입이 존재하지 않으면 빈 리스트\n",
    "infer tenv (Var x)      = case lookup x tenv of Just t  -> [t]\n",
    "                                                Nothing -> []\n",
    "infer tenv (Lam x (Just t2) e) = case infer ((x, t2) : tenv) e of\n",
    "  [t] -> [Arr t2 t]\n",
    "infer tenv (Lam x Nothing   e) = []  -- 생략된 타입 표기가 있으면 실패\n",
    "infer tenv (Rec f (Just t) e) = case infer ((f, t) : tenv) e of\n",
    "  [t'] | t == t' -> [t]\n",
    "infer tenv (Rec f Nothing  e)  = []  -- 생략된 타입 표기가 있으면 실패\n",
    "infer tenv (App e1 e2) = case infer tenv e1 of\n",
    "  [Arr t2 t] -> if check tenv e2 t2 then [t] else []\n",
    "  _          -> []\n",
    "infer tenv (Lit _) = [Z]\n",
    "infer tenv (Add e1 e2) = if check tenv e1 Z && check tenv e2 Z then [Z] else []\n",
    "infer tenv (If e e1 e0) = case infer tenv e of\n",
    "  [Z] -> if infer tenv e1 == infer tenv e0 then infer tenv e1 else []\n",
    "  _   -> []"
   ]
  },
  {
   "cell_type": "code",
   "execution_count": 6,
   "id": "e82902b9-e245-451a-be4d-2235fb5d82ef",
   "metadata": {},
   "outputs": [],
   "source": [
    "recon :: TEnv -> Expr -> [Expr]\n",
    "recon tenv (App (Lam x Nothing e) e2) =\n",
    "    [ App (Lam x (Just t2) e) e2 | t2 <- infer tenv e2 ]\n",
    "recon tenv (App (App e1 e2) e2') =\n",
    "    [ App (App e1' e2) e2' | e1' <- recon tenv e1 ] ++\n",
    "    [ App e1 e2' | e1 <- recon tenv (App e1 e2), e2' <- recon tenv e2' ]\n",
    "recon tenv (Lam x mt e) =\n",
    "    [ Lam x (Just t) e' | t <- infer tenv (Lam x mt e), e' <- recon ((x, t) : tenv) e ]\n",
    "recon tenv e = [e]\n",
    "recon _ _ = []"
   ]
  },
  {
   "cell_type": "code",
   "execution_count": 7,
   "id": "30869f49-dccc-4feb-8e75-ad13ec3fd79c",
   "metadata": {},
   "outputs": [
    {
     "data": {
      "text/latex": [
       "$(\\lambda x.\\lambda x'.x+x')\\;(2+y)$"
      ]
     },
     "metadata": {},
     "output_type": "display_data"
    }
   ],
   "source": [
    "e1 = Lam \"x\" Nothing . Lam \"x'\" Nothing $ Var \"x\" `Add` Var \"x'\"  \n",
    "e2 = Lit 2 `Add` Var \"y\"  -- y는 자유변수!!!\n",
    "App e1 e2"
   ]
  },
  {
   "cell_type": "code",
   "execution_count": 8,
   "id": "fdbd97c3-f3f6-43ec-964d-c4024ec2e952",
   "metadata": {},
   "outputs": [
    {
     "data": {
      "text/latex": [
       "$(\\lambda x.\\lambda x'.x+x')\\;(2+y)\\;3$"
      ]
     },
     "metadata": {},
     "output_type": "display_data"
    }
   ],
   "source": [
    "e2' = Lit 3\n",
    "App (App e1 e2) e2'"
   ]
  },
  {
   "cell_type": "code",
   "execution_count": 9,
   "id": "7e6fbbdd-ef57-43a4-9f58-1f0601b7bbda",
   "metadata": {},
   "outputs": [
    {
     "data": {
      "text/latex": [
       "$(\\lambda x{:}\\mathbb{Z}.\\lambda x'.x+x')\\;(2+y)\\;3$"
      ]
     },
     "metadata": {},
     "output_type": "display_data"
    }
   ],
   "source": [
    "recon [(\"y\",Z)] (App (App e1 e2) e2')"
   ]
  }
 ],
 "metadata": {
  "kernelspec": {
   "display_name": "Haskell",
   "language": "haskell",
   "name": "haskell"
  },
  "language_info": {
   "codemirror_mode": "ihaskell",
   "file_extension": ".hs",
   "mimetype": "text/x-haskell",
   "name": "haskell",
   "pygments_lexer": "Haskell",
   "version": "9.2.5"
  }
 },
 "nbformat": 4,
 "nbformat_minor": 5
}
