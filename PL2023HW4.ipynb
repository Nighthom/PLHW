{
 "cells": [
  {
   "cell_type": "markdown",
   "id": "ab354cc4-f4fd-4eb7-8745-4cb505172c63",
   "metadata": {},
   "source": [
    "# HNU CE 프로그래밍언어론 (2023년 1학기) HW4\n",
    "기말과제 파트1"
   ]
  },
  {
   "cell_type": "markdown",
   "id": "b3ed9693-2d1d-452e-a76d-03e4ae77fa55",
   "metadata": {},
   "source": [
    "- 이름: 홍길동\n",
    "- 학번: 99999999"
   ]
  },
  {
   "cell_type": "markdown",
   "id": "0dc04f45-1bc8-463b-bb79-1a5cc17aba29",
   "metadata": {},
   "source": [
    "이름과 학번을 위에 작성하시오.\n",
    "\n",
    "\n",
    "적절한 내용과 개수의 테스트를 작성하지 않으면 감점. 테스트가 적절하지 않거나 지나치게 부족하면 함수를 올바르게 작성했더라도 점수를 얻지 못할 수 있음에 유의!\n",
    "\n",
    "----"
   ]
  },
  {
   "cell_type": "code",
   "execution_count": null,
   "id": "1ac64b75-35f6-4db9-bcd9-8e7086e2c6ac",
   "metadata": {},
   "outputs": [],
   "source": [
    ":opt no-lint\n",
    "{-# LANGUAGE ScopedTypeVariables FlexibleInstances TypeApplications RankNTypes KindSignatures #-}"
   ]
  },
  {
   "cell_type": "markdown",
   "id": "c12e73e9-cdd8-42e5-9571-8be7a142a636",
   "metadata": {},
   "source": [
    "----\n",
    "## 문제 1. (20점) 9장 연습문제 4번"
   ]
  },
  {
   "cell_type": "code",
   "execution_count": null,
   "id": "43496b98-5503-4f7f-885f-30c4cd7167f3",
   "metadata": {},
   "outputs": [],
   "source": [
    "type Nm = String -- 변수 이름은 문자열로\n",
    "data Expr = Var Nm         -- x\n",
    "          | Lam Nm Expr    -- (λx.e)\n",
    "          | App Expr Expr  -- (e1 e2)\n",
    "          deriving (Eq, Ord)\n",
    "\n",
    "type Addr = Int\n",
    "type Env' = [(Nm,Addr)]\n",
    "data Clos' = Cl' Expr Env' deriving (Eq,Ord)\n",
    "\n",
    "lookupEnv' :: Nm -> Env' -> [Addr]\n",
    "lookupEnv' x env = case lookup x env of\n",
    "                     Nothing -> []\n",
    "                     Just l -> [l]\n",
    "\n",
    "import qualified Data.HashMap.Strict as M -- M.funcName으로 활용\n",
    "import Data.HashMap.Strict (HashMap, (!), (!?)) -- 앞에 M. 없이\n",
    "type Store = HashMap Int Clos'\n",
    "\n",
    "lookupStore :: Addr -> Store -> [Clos']\n",
    "lookupStore l st = case st !? l of\n",
    "                     Nothing -> []\n",
    "                     Just cl -> [cl]\n",
    "                     \n",
    "type Kont' = [Either Addr (Ctx,Env')]\n",
    "data Ctx = Done | App1 Expr | App2 Expr  deriving (Eq,Ord)"
   ]
  },
  {
   "cell_type": "code",
   "execution_count": null,
   "id": "5c60c4bf-7bc9-446d-ad27-b3ee7dc7db07",
   "metadata": {
    "tags": []
   },
   "outputs": [],
   "source": [
    "instance Show Expr where -- LaTeX 소스코드 생성하는 Show 인스턴스 직접 선언\n",
    "  showsPrec _ (Var x) = showString x\n",
    "  showsPrec p (Lam x e) = showParen (p > 1) $\n",
    "      showString (\"\\\\lambda \"++x++\".\") . showsPrec 1 e\n",
    "  showsPrec p (App e1 e2) = showParen (p > 9) $\n",
    "      showsPrec 9 e1 . showString \"\\\\;\" . showsPrec 10 e2\n",
    "import IHaskell.Display (latex)\n",
    "dTeX e = display [latex $ \"$\"++show e++\"$\"]\n",
    "instance IHaskellDisplay Expr where display = dTeX\n",
    "\n",
    "instance Show Ctx where -- LaTeX 소스코드 생성하는 Show 인스턴스 직접 선언\n",
    "  showsPrec _ Done = showString \"\\\\bullet \"\n",
    "  showsPrec p (App1 e2) = showParen (p > 9) $\n",
    "      showString \"\\\\bullet \\\\;\" . showsPrec 10 e2\n",
    "  showsPrec p (App2 e1) = showParen (p > 9) $\n",
    "      showsPrec 9 e1 . showString \"\\\\; \\\\bullet\"\n",
    "instance IHaskellDisplay Ctx where display = dTeX\n",
    "                                               \n",
    "import Data.List (intercalate)\n",
    "instance {-# OVERLAPS #-} Show Env' where\n",
    "  show env = \"\\\\{\"++ intercalate \",\\\\,\" (map show env) ++\"\\\\}\"\n",
    "instance {-# OVERLAPS #-} Show (Nm,Addr) where\n",
    "  show (x,l) = x++\"{\\\\mapsto}\"++show l\n",
    "instance Show Clos' where\n",
    "  show (Cl' e env) = \"\\\\langle \"++show e++\",\"++show env++\"\\\\rangle \"\n",
    "instance {-# OVERLAPS #-} Show (Addr,Clos') where\n",
    "  show (l,cl) = show l++\"{\\\\mapsto}\"++show cl\n",
    "instance {-# OVERLAPS #-} Show Store where\n",
    "  show s = \"\\\\{\"++ intercalate \",\\\\,\" (map show $ M.toList s) ++\"\\\\}\"\n",
    "\n",
    "instance {-# OVERLAPS #-} IHaskellDisplay Env'  where display = dTeX\n",
    "instance {-# OVERLAPS #-} IHaskellDisplay (Nm,Addr) \n",
    "                                                where display = dTeX\n",
    "instance IHaskellDisplay Clos'                  where display = dTeX\n",
    "instance {-# OVERLAPS #-} IHaskellDisplay (Addr,Clos')\n",
    "                                                where display = dTeX\n",
    "instance {-# OVERLAPS #-} IHaskellDisplay Store where display = dTeX"
   ]
  },
  {
   "cell_type": "code",
   "execution_count": null,
   "id": "d5e3af30-5e8c-43ba-bba6-96862c6d6042",
   "metadata": {},
   "outputs": [],
   "source": [
    "stepCESKz :: (Clos', Store, Kont') -> [(Clos', Store, Kont')]\n",
    "stepCESKz (Cl' (Var x) env, st, k) = [ (cl, st, Left l : k) |\n",
    "                                         l <- lookupEnv' x env,\n",
    "                                         cl <- lookupStore l st ]\n",
    "stepCESKz _ = undefined -- 나머지 규칙들 적절히 연습문제로 작성"
   ]
  },
  {
   "cell_type": "code",
   "execution_count": null,
   "id": "5f17a577-a16d-4fa3-aa9d-ea774af8c8bb",
   "metadata": {},
   "outputs": [],
   "source": [
    "stepCESKz' = hat stepCESKz -- 여러 번 실행에 편리한 확장된 함수"
   ]
  },
  {
   "cell_type": "code",
   "execution_count": null,
   "id": "8ae05b5e-06c1-493b-a0fa-2d1ab352d275",
   "metadata": {},
   "outputs": [],
   "source": [
    "-- 테스트 작성"
   ]
  },
  {
   "cell_type": "markdown",
   "id": "ea138aa6-5b99-40a9-b7e1-f56e4bb85a61",
   "metadata": {},
   "source": [
    "----\n",
    "## 문제 2. (10점) 11장 연습문제 3번\n",
    "\n",
    "교재 11장에서 필요한 정의를 가져와서 활용하라."
   ]
  },
  {
   "cell_type": "code",
   "execution_count": null,
   "id": "05450a65-b7f2-4f59-9c94-8df40c277e4f",
   "metadata": {},
   "outputs": [],
   "source": []
  },
  {
   "cell_type": "code",
   "execution_count": null,
   "id": "7555f508-3676-497f-ae67-cb6cc8a05354",
   "metadata": {},
   "outputs": [],
   "source": []
  },
  {
   "cell_type": "markdown",
   "id": "3b0a55a5-a2c3-407e-9569-b8ab502b2582",
   "metadata": {
    "tags": []
   },
   "source": [
    "----\n",
    "## 문제 3. (15점) 12장 연습문제 3번\n",
    "\n",
    "모든 타입(Ty)을 원소로 나열하는 무한 리스트 `allTy`를 정의해 보라.\n",
    "원소가 리스트에 나타나는 순서는 `Z`를 1개만 포하는 타입, `Z`를 2개 포함하는 타입들, `Z`를 3개 포함하는 타입들, ... 이런 순서로 나타나도록 정의하라.\n",
    "\n",
    "그러니까 `allTy`는\n",
    "$[\\,\\mathbb{Z},\n",
    "  \\;\\mathbb{Z}{\\to}\\mathbb{Z},\n",
    "  \\;\\mathbb{Z}{\\to}\\mathbb{Z}{\\to}\\mathbb{Z},\n",
    "  \\;(\\mathbb{Z}{\\to}\\mathbb{Z}){\\to}\\mathbb{Z},\n",
    "  \\;\\ldots]$와 같은 리스트이다."
   ]
  },
  {
   "cell_type": "code",
   "execution_count": null,
   "id": "735b686f-499d-49c6-ab03-85701ae6e958",
   "metadata": {},
   "outputs": [],
   "source": [
    "data Ty = Z | Arr Ty Ty  deriving (Eq,Ord)"
   ]
  },
  {
   "cell_type": "code",
   "execution_count": null,
   "id": "a70bfd2d-e2a0-473a-98d5-d84b86b42394",
   "metadata": {},
   "outputs": [],
   "source": [
    "allTy = undefined -- 필요하다면 여러 개의 등식이나 다른 보조 함수를 정의해서 활용해도 좋다"
   ]
  },
  {
   "cell_type": "code",
   "execution_count": null,
   "id": "17528ebc-c2f9-44eb-9a0f-5e273559e048",
   "metadata": {},
   "outputs": [],
   "source": [
    "-- 테스트로 앞에서부터 적절한 개수의 타입들을 끊어서 보기\n",
    "take 30 allTy"
   ]
  },
  {
   "cell_type": "markdown",
   "id": "0c0b24b1-50f9-47d1-9dc3-3ce9f0d0e3b6",
   "metadata": {},
   "source": [
    "## 문제 4. (15점) 12장 연습문제 1번. `eval` 함수만 완성하라. `ev`는 작성하지 않아도 됨\n",
    "재귀함수 관련 `undefined`로 남겨진 부분을 채워넣고 재귀함수 실행을 테스트해 보라"
   ]
  },
  {
   "cell_type": "code",
   "execution_count": null,
   "id": "fa15be85-5221-4c19-aa6d-2be11b100467",
   "metadata": {},
   "outputs": [],
   "source": []
  },
  {
   "cell_type": "code",
   "execution_count": null,
   "id": "15d6d5aa-0849-4082-85eb-5e19d05a5abc",
   "metadata": {},
   "outputs": [],
   "source": []
  },
  {
   "cell_type": "code",
   "execution_count": null,
   "id": "783dc02c-0d60-413b-9521-204c3f2cce91",
   "metadata": {},
   "outputs": [],
   "source": []
  },
  {
   "cell_type": "markdown",
   "id": "d4a09015-31c7-4e26-b4fd-985461d94128",
   "metadata": {
    "tags": []
   },
   "source": [
    "## 문제 5. (30점) 12장 연습문제 4번,5번,6번"
   ]
  },
  {
   "cell_type": "code",
   "execution_count": null,
   "id": "a11f0df2-f1c5-4ffa-8898-e845e5a684f6",
   "metadata": {},
   "outputs": [],
   "source": []
  },
  {
   "cell_type": "code",
   "execution_count": null,
   "id": "2cb6a060-379c-487d-b87c-c36b9e230bd6",
   "metadata": {},
   "outputs": [],
   "source": []
  },
  {
   "cell_type": "code",
   "execution_count": null,
   "id": "4b8025f1-b938-4419-9d2c-4f885396c29d",
   "metadata": {},
   "outputs": [],
   "source": []
  }
 ],
 "metadata": {
  "kernelspec": {
   "display_name": "Haskell",
   "language": "haskell",
   "name": "haskell"
  },
  "language_info": {
   "codemirror_mode": "ihaskell",
   "file_extension": ".hs",
   "mimetype": "text/x-haskell",
   "name": "haskell",
   "pygments_lexer": "Haskell",
   "version": "9.4.5"
  }
 },
 "nbformat": 4,
 "nbformat_minor": 5
}
